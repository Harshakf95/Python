{
 "cells": [
  {
   "cell_type": "code",
   "execution_count": 1,
   "metadata": {},
   "outputs": [
    {
     "name": "stdout",
     "output_type": "stream",
     "text": [
      "Odd Number\n"
     ]
    }
   ],
   "source": [
    "x=3\n",
    "r=x%2\n",
    "if r==0:\n",
    "    print(\"Even Number\")\n",
    "elif r==1:\n",
    "    print(\"Odd Number\")\n",
    "else:\n",
    "    print(\"Invalid Number\")"
   ]
  },
  {
   "cell_type": "code",
   "execution_count": 3,
   "metadata": {},
   "outputs": [
    {
     "name": "stdout",
     "output_type": "stream",
     "text": [
      " \n",
      "harsha  \n",
      "harsha harsha  \n",
      "harsha harsha harsha  \n",
      "harsha harsha harsha harsha  \n",
      "harsha harsha harsha harsha harsha  \n",
      "harsha harsha harsha harsha  \n",
      "harsha harsha harsha  \n",
      "harsha harsha  \n",
      "harsha  \n"
     ]
    }
   ],
   "source": [
    "n=5\n",
    "for i in range(n):\n",
    "    for j in range(i):\n",
    "        print('harsha',end=\" \")\n",
    "    print(' ')\n",
    "for i in range(n,0,-1):\n",
    "    for j in range(i):\n",
    "        print('harsha',end=\" \")\n",
    "    print(' ')"
   ]
  },
  {
   "cell_type": "code",
   "execution_count": 4,
   "metadata": {},
   "outputs": [
    {
     "name": "stdout",
     "output_type": "stream",
     "text": [
      "fine:  32.5\n"
     ]
    }
   ],
   "source": [
    "d=int(input(\"Enter number of days: \"))\n",
    "fine=0\n",
    "if d==5:\n",
    "    fine=d*0.5\n",
    "    print(\"fine: \",float(fine))\n",
    "elif d>5 and d<=10:\n",
    "    i=d-5\n",
    "    fine=(i*1)+(5*0.5)\n",
    "    print(\"fine: \",float(fine))\n",
    "elif d>10 and d<=30:\n",
    "    i=d-10\n",
    "    fine=(i*5)+(5*0.5)+(5*1)\n",
    "    print(\"fine: \",float(fine))\n",
    "else:\n",
    "    i=d-10\n",
    "    fine=(i*5)+(5*0.5)+(5*1)\n",
    "    print(\"Your membership is cancelled\")\n",
    "    print(\"fine: \",float(fine))"
   ]
  },
  {
   "cell_type": "code",
   "execution_count": 5,
   "metadata": {},
   "outputs": [
    {
     "name": "stdout",
     "output_type": "stream",
     "text": [
      "[1, 3, 5, 6, 7, [3, 4, 5], 'hello']\n"
     ]
    },
    {
     "ename": "TypeError",
     "evalue": "insert expected 2 arguments, got 1",
     "output_type": "error",
     "traceback": [
      "\u001b[1;31m---------------------------------------------------------------------------\u001b[0m",
      "\u001b[1;31mTypeError\u001b[0m                                 Traceback (most recent call last)",
      "\u001b[1;32mUntitled-1.ipynb Cell 4\u001b[0m line \u001b[0;36m3\n\u001b[0;32m      <a href='vscode-notebook-cell:Untitled-1.ipynb?jupyter-notebook#W3sdW50aXRsZWQ%3D?line=0'>1</a>\u001b[0m a\u001b[39m=\u001b[39m[\u001b[39m1\u001b[39m,\u001b[39m3\u001b[39m,\u001b[39m5\u001b[39m,\u001b[39m6\u001b[39m,\u001b[39m7\u001b[39m,[\u001b[39m3\u001b[39m,\u001b[39m4\u001b[39m,\u001b[39m5\u001b[39m],\u001b[39m\"\u001b[39m\u001b[39mhello\u001b[39m\u001b[39m\"\u001b[39m]\n\u001b[0;32m      <a href='vscode-notebook-cell:Untitled-1.ipynb?jupyter-notebook#W3sdW50aXRsZWQ%3D?line=1'>2</a>\u001b[0m \u001b[39mprint\u001b[39m(a)\n\u001b[1;32m----> <a href='vscode-notebook-cell:Untitled-1.ipynb?jupyter-notebook#W3sdW50aXRsZWQ%3D?line=2'>3</a>\u001b[0m a\u001b[39m.\u001b[39;49minsert(\u001b[39m3.20\u001b[39;49m)\n\u001b[0;32m      <a href='vscode-notebook-cell:Untitled-1.ipynb?jupyter-notebook#W3sdW50aXRsZWQ%3D?line=3'>4</a>\u001b[0m \u001b[39mprint\u001b[39m(a)\n\u001b[0;32m      <a href='vscode-notebook-cell:Untitled-1.ipynb?jupyter-notebook#W3sdW50aXRsZWQ%3D?line=4'>5</a>\u001b[0m a\u001b[39m.\u001b[39mremove(\u001b[39m7\u001b[39m)\n",
      "\u001b[1;31mTypeError\u001b[0m: insert expected 2 arguments, got 1"
     ]
    }
   ],
   "source": [
    "a=[1,3,5,6,7,[3,4,5],\"hello\"]\n",
    "print(a)\n",
    "a.insert(3.20)\n",
    "print(a)\n",
    "a.remove(7)\n",
    "print(a)\n",
    "a.append(\"hi\")\n",
    "print(a)\n",
    "len(a)\n",
    "print(a)\n",
    "a.pop()\n",
    "print(a)\n",
    "a.pop(6)\n",
    "print(a)\n",
    "a.clear()\n",
    "print(a)"
   ]
  }
 ],
 "metadata": {
  "kernelspec": {
   "display_name": "Python 3",
   "language": "python",
   "name": "python3"
  },
  "language_info": {
   "codemirror_mode": {
    "name": "ipython",
    "version": 3
   },
   "file_extension": ".py",
   "mimetype": "text/x-python",
   "name": "python",
   "nbconvert_exporter": "python",
   "pygments_lexer": "ipython3",
   "version": "3.12.0"
  }
 },
 "nbformat": 4,
 "nbformat_minor": 2
}
